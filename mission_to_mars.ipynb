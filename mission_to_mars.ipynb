{
 "metadata": {
  "language_info": {
   "codemirror_mode": {
    "name": "ipython",
    "version": 3
   },
   "file_extension": ".py",
   "mimetype": "text/x-python",
   "name": "python",
   "nbconvert_exporter": "python",
   "pygments_lexer": "ipython3",
   "version": "3.6.10-final"
  },
  "orig_nbformat": 2,
  "kernelspec": {
   "name": "python3",
   "display_name": "Python 3"
  }
 },
 "nbformat": 4,
 "nbformat_minor": 2,
 "cells": [
  {
   "cell_type": "code",
   "execution_count": 30,
   "metadata": {},
   "outputs": [],
   "source": [
    "from bs4 import BeautifulSoup as bs\n",
    "from splinter import Browser\n",
    "from splinter.exceptions import ElementDoesNotExist\n",
    "import pandas as pd\n",
    "import requests\n",
    "import pymongo"
   ]
  },
  {
   "cell_type": "code",
   "execution_count": null,
   "metadata": {
    "tags": []
   },
   "outputs": [],
   "source": [
    "# https://splinter.readthedocs.io/en/latest/drivers/chrome.html\n",
    "!which chromedriver"
   ]
  },
  {
   "cell_type": "code",
   "execution_count": null,
   "metadata": {},
   "outputs": [],
   "source": [
    "# define the url and establish the connection with splinter for later\n",
    "executable_path = {'executable_path': '/usr/local/bin/chromedriver'}\n",
    "browser = Browser('chrome', **executable_path, headless=False)"
   ]
  },
  {
   "cell_type": "code",
   "execution_count": null,
   "metadata": {},
   "outputs": [],
   "source": [
    "def connection(url):\n",
    "    browser.visit(url)\n",
    "    html = browser.html\n",
    "    soup = bs(html, 'html.parser')\n",
    "    return soup"
   ]
  },
  {
   "cell_type": "code",
   "execution_count": null,
   "metadata": {},
   "outputs": [],
   "source": [
    "# Create BeautifulSoup object\n",
    "#url = 'https://mars.nasa.gov/news/?page=0&per_page=40&order=publish_date+desc%2Ccreated_at+desc&search=&category=19%2C165%2C184%2C204&blank_scope=Latest'\n",
    "#response = requests.get(url)\n",
    "#soup = bs(response.text,'html.parser')"
   ]
  },
  {
   "cell_type": "code",
   "execution_count": null,
   "metadata": {
    "tags": []
   },
   "outputs": [],
   "source": [
    "#paragraphs = soup.find_all('div', class_='list_text')\n",
    "#paragraphs"
   ]
  },
  {
   "cell_type": "code",
   "execution_count": null,
   "metadata": {
    "tags": []
   },
   "outputs": [],
   "source": [
    "#scrap the html to find the latest news title and paragraph\n",
    "url = 'https://mars.nasa.gov/news/'\n",
    "soup = connection(url)\n",
    "result = soup.find('div', class_='list_text')\n",
    "news_title = result.a.text\n",
    "news_p = result.find('div', class_='article_teaser_body').text\n",
    "print('Latest article from the NASA')\n",
    "print(f'Title : {news_title}')\n",
    "print(f'Teaser : {news_p}')"
   ]
  },
  {
   "cell_type": "code",
   "execution_count": null,
   "metadata": {
    "tags": []
   },
   "outputs": [],
   "source": [
    "#scrap the html to find the current Featured Mars Image\n",
    "url = 'https://www.jpl.nasa.gov/spaceimages/?search=&category=Mars'\n",
    "soup = connection(url)\n",
    "src = soup.footer.a['data-fancybox-href']\n",
    "featured_img_url = f'https://www.jpl.nasa.gov{src}'\n",
    "print(featured_img_url)"
   ]
  },
  {
   "cell_type": "code",
   "execution_count": 59,
   "metadata": {
    "tags": []
   },
   "outputs": [
    {
     "output_type": "execute_result",
     "data": {
      "text/plain": "                      0                              1\n0  Equatorial Diameter:                       6,792 km\n1       Polar Diameter:                       6,752 km\n2                 Mass:  6.39 × 10^23 kg (0.11 Earths)\n3                Moons:            2 (Phobos & Deimos)\n4       Orbit Distance:       227,943,824 km (1.38 AU)\n5         Orbit Period:           687 days (1.9 years)\n6  Surface Temperature:                   -87 to -5 °C\n7         First Record:              2nd millennium BC\n8          Recorded By:           Egyptian astronomers",
      "text/html": "<div>\n<style scoped>\n    .dataframe tbody tr th:only-of-type {\n        vertical-align: middle;\n    }\n\n    .dataframe tbody tr th {\n        vertical-align: top;\n    }\n\n    .dataframe thead th {\n        text-align: right;\n    }\n</style>\n<table border=\"1\" class=\"dataframe\">\n  <thead>\n    <tr style=\"text-align: right;\">\n      <th></th>\n      <th>0</th>\n      <th>1</th>\n    </tr>\n  </thead>\n  <tbody>\n    <tr>\n      <th>0</th>\n      <td>Equatorial Diameter:</td>\n      <td>6,792 km</td>\n    </tr>\n    <tr>\n      <th>1</th>\n      <td>Polar Diameter:</td>\n      <td>6,752 km</td>\n    </tr>\n    <tr>\n      <th>2</th>\n      <td>Mass:</td>\n      <td>6.39 × 10^23 kg (0.11 Earths)</td>\n    </tr>\n    <tr>\n      <th>3</th>\n      <td>Moons:</td>\n      <td>2 (Phobos &amp; Deimos)</td>\n    </tr>\n    <tr>\n      <th>4</th>\n      <td>Orbit Distance:</td>\n      <td>227,943,824 km (1.38 AU)</td>\n    </tr>\n    <tr>\n      <th>5</th>\n      <td>Orbit Period:</td>\n      <td>687 days (1.9 years)</td>\n    </tr>\n    <tr>\n      <th>6</th>\n      <td>Surface Temperature:</td>\n      <td>-87 to -5 °C</td>\n    </tr>\n    <tr>\n      <th>7</th>\n      <td>First Record:</td>\n      <td>2nd millennium BC</td>\n    </tr>\n    <tr>\n      <th>8</th>\n      <td>Recorded By:</td>\n      <td>Egyptian astronomers</td>\n    </tr>\n  </tbody>\n</table>\n</div>"
     },
     "metadata": {},
     "execution_count": 59
    }
   ],
   "source": [
    "#scrap the html to find Mars's facts and store it in a df, export to html\n",
    "url = 'https://space-facts.com/mars/'\n",
    "tables = pd.read_html(url)\n",
    "mars_df = tables[0]\n",
    "mars_df"
   ]
  },
  {
   "cell_type": "code",
   "execution_count": 60,
   "metadata": {},
   "outputs": [
    {
     "output_type": "execute_result",
     "data": {
      "text/plain": "[{'Infos': 'Equatorial Diameter', 'Unit': '6,792 km'},\n {'Infos': 'Polar Diameter', 'Unit': '6,752 km'},\n {'Infos': 'Mass', 'Unit': '6.39 × 10^23 kg (0.11 Earths)'},\n {'Infos': 'Moons', 'Unit': '2 (Phobos & Deimos)'},\n {'Infos': 'Orbit Distance', 'Unit': '227,943,824 km (1.38 AU)'},\n {'Infos': 'Orbit Period', 'Unit': '687 days (1.9 years)'},\n {'Infos': 'Surface Temperature', 'Unit': '-87 to -5 °C'},\n {'Infos': 'First Record', 'Unit': '2nd millennium BC'},\n {'Infos': 'Recorded By', 'Unit': 'Egyptian astronomers'}]"
     },
     "metadata": {},
     "execution_count": 60
    }
   ],
   "source": [
    "mars_df.rename({0:'Infos', 1:'Unit'}, axis=1,inplace=True)\n",
    "mars_df['Infos'] = mars_df['Infos'].str.replace(':','')\n",
    "f = open('data/mars_table.html','w', encoding='utf-8')\n",
    "mars_df.to_html(buf = f, index=False)\n",
    "f.close()\n",
    "mars_table = mars_df.to_dict('records')\n",
    "mars_table"
   ]
  },
  {
   "cell_type": "code",
   "execution_count": null,
   "metadata": {
    "tags": []
   },
   "outputs": [],
   "source": [
    "#Scrap high resoltution images for each hemisphere\n",
    "url = 'https://astrogeology.usgs.gov/search/results?q=hemisphere+enhanced&k1=target&v1=Mars'\n",
    "soup = connection(url)\n",
    "items = soup.find_all('div', class_='item')\n",
    "hemisphere_image_urls=[]\n",
    "for item in items:\n",
    "    href = item.a['href']\n",
    "    url = f'https://astrogeology.usgs.gov/{href}'\n",
    "    browser.visit(url)\n",
    "    html = browser.html\n",
    "    soup = bs(html,'html.parser')\n",
    "    url = soup.find('div',class_='downloads').\\\n",
    "        find('a')['href']\n",
    "    title = soup.find('div', class_='content').\\\n",
    "        find('h2',class_='title').text \n",
    "    dict={}\n",
    "    dict['title']=title\n",
    "    dict['img_url']= url\n",
    "    hemisphere_image_urls.append(dict)\n",
    "hemisphere_image_urls"
   ]
  },
  {
   "cell_type": "code",
   "execution_count": null,
   "metadata": {},
   "outputs": [],
   "source": [
    "#Scrap high resoltution images for each hemisphere\n",
    "#url = 'https://astrogeology.usgs.gov/search/results?q=hemisphere+enhanced&k1=target&v1=Mars'\n",
    "#soup = connection(url)\n",
    "#items = soup.find_all('div', class_='item')\n",
    "#hemisphere_image_urls=[]\n",
    "#for item in items:\n",
    "#    href = item.a['href']\n",
    "#    browser.click_link_by_href(href)\n",
    "#    html = browser.html\n",
    "#    soup = bs(html,'html.parser')\n",
    "#    url = soup.find('div',class_='downloads').\\\n",
    "#        find('a')['href']\n",
    "#    title = soup.find('div', class_='content').\\\n",
    "#        find('h2',class_='title').text \n",
    "#    print(url)\n",
    "#    print(title)"
   ]
  }
 ]
}